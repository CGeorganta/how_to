{
 "cells": [
  {
   "cell_type": "markdown",
   "id": "17121840",
   "metadata": {},
   "source": [
    "In case you have more than two excelsheets in one folder and you want to merge all of them, you can do the following process"
   ]
  },
  {
   "cell_type": "code",
   "execution_count": null,
   "id": "de9786de",
   "metadata": {},
   "outputs": [],
   "source": [
    "import pandas as pd\n",
    "import os"
   ]
  },
  {
   "cell_type": "code",
   "execution_count": null,
   "id": "19d95c0b",
   "metadata": {},
   "outputs": [],
   "source": [
    "#Identify the path of your files. In this case the files are in the folder named \"whatever\".\n",
    "path= r\"C:\\Users\\whatever\"\n",
    "files = os.listdir(path)\n",
    "#If your files are \"something.xlsx\" use the following. If your files are \"somthing.xls\" you have to change 4 to 3 and 'xlsx' to 'xls'\n",
    "files_xlsx=[f for f in files if f[-4:]=='xlsx' ]\n",
    "\n",
    "#Create a for loop that make a list with your files and concate them all to one dataframe called df\n",
    "df_list=[]\n",
    "for f in files_xlsx:\n",
    "    data=pd.read_excel(os.path.join(path,f))\n",
    "    df_list.append(data)\n",
    "df= pd.concat(df_list)\n",
    "\n",
    "#Save this file to csv in the same folder\n",
    "df.to_csv(path+\"\\alldata.csv\")\n",
    "\n",
    "#Save this file to xls in the same folder\n",
    "df.to_excel(path+\"\\alldata.xls\")\n"
   ]
  }
 ],
 "metadata": {
  "kernelspec": {
   "display_name": "Python 3",
   "language": "python",
   "name": "python3"
  },
  "language_info": {
   "codemirror_mode": {
    "name": "ipython",
    "version": 3
   },
   "file_extension": ".py",
   "mimetype": "text/x-python",
   "name": "python",
   "nbconvert_exporter": "python",
   "pygments_lexer": "ipython3",
   "version": "3.8.8"
  }
 },
 "nbformat": 4,
 "nbformat_minor": 5
}
